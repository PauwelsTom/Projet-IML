{
 "cells": [
  {
   "cell_type": "markdown",
   "metadata": {},
   "source": [
    "## Projet IML - Samuel M. / David X. / Tom P."
   ]
  },
  {
   "cell_type": "markdown",
   "metadata": {},
   "source": [
    "# Sommaire :\n",
    "\n",
    "0- Imports\n",
    "\n",
    "1- Création d’une réponse type (Bon format)\n",
    "\n",
    "2- Création d'un premier classifier\n",
    "\n",
    "3- "
   ]
  },
  {
   "cell_type": "markdown",
   "metadata": {},
   "source": [
    "_______\n",
    "_______\n",
    "\n",
    "## 0 - Imports"
   ]
  },
  {
   "cell_type": "markdown",
   "metadata": {},
   "source": [
    "Importation des bibliotheques necessaires"
   ]
  },
  {
   "cell_type": "code",
   "execution_count": 22,
   "metadata": {},
   "outputs": [],
   "source": [
    "import glob\n",
    "import matplotlib.pyplot as plt\n",
    "import numpy as np\n",
    "import scipy as sp"
   ]
  },
  {
   "cell_type": "markdown",
   "metadata": {},
   "source": [
    "On recupere les fonctions <u>donnees dans l'ennonce</u>"
   ]
  },
  {
   "cell_type": "code",
   "execution_count": 23,
   "metadata": {},
   "outputs": [],
   "source": [
    "def eval_performance_raw(predictions: np.array, targets: np.array):\n",
    "    \"\"\"Evalue la performance de l'algorithme de classification.\n",
    "\n",
    "    Args:\n",
    "        predictions (np.array): prédictions\n",
    "        targets (np.array): valeurs attendues (vérité terrain)\n",
    "    \"\"\"\n",
    "    # Check we have the right shape and dtype\n",
    "    if predictions.shape != (349, 1905):\n",
    "        raise ValueError(\"Les prédictions doivent être de shape (349, 1905)\")\n",
    "    if predictions.dtype != np.uint8:\n",
    "        raise ValueError(\"Les prédictions doivent être de dtype uint8\")\n",
    "    if targets.shape != (349, 1905):\n",
    "        raise ValueError(\"Les cibles doivent être de shape (349, 1905)\")\n",
    "    if targets.dtype != np.uint8:\n",
    "        raise ValueError(\"Les cibles doivent être de dtype uint8\")\n",
    "    # Check predictions are in the correct domain\n",
    "    if np.any(predictions > 15):\n",
    "        raise ValueError(\"Les prédictions doivent être dans l'intervalle [0, 15]\")\n",
    "    if np.any(targets > 15):\n",
    "        raise ValueError(\"Les cibles doivent être dans l'intervalle [0, 15]\")\n",
    "    # Compute the confusion matrix\n",
    "    confusion_matrix = np.zeros((16, 16), dtype=np.int32)\n",
    "    for i in range(16):\n",
    "        for j in range(16):\n",
    "            confusion_matrix[i, j] = np.sum((predictions == i) & (targets == j))\n",
    "    # Compute the overall accuracy\n",
    "    accuracy = np.sum(np.diag(confusion_matrix)) / np.sum(confusion_matrix)\n",
    "    # Compute the class-wise accuracy\n",
    "    class_accuracy = np.diag(confusion_matrix) / np.sum(confusion_matrix, axis=1)\n",
    "    # Accuracy ignoring the unclassified pixels in the ground truth\n",
    "    mask = targets != 0\n",
    "    accuracy_no_unclassified = np.sum(predictions[mask] == targets[mask]) / np.sum(mask)\n",
    "    # Return the results\n",
    "    return accuracy, class_accuracy, accuracy_no_unclassified, confusion_matrix\n",
    "\n",
    "def load_eval_perf(filename: str, targets: np.array):\n",
    "    \"\"\"\n",
    "    Charge les prédictions depuis un fichier NPZ et évalue la performance de l'algorithme de classification.\n",
    "\n",
    "    Args:\n",
    "        filename (str): nom du fichier NPZ contenant les prédictions\n",
    "        targets (np.array): valeurs attendues (vérité terrain)\n",
    "    \"\"\"\n",
    "    # Load the predictions\n",
    "    predictions = np.load(filename)['predictions']\n",
    "    # Evaluate the performance\n",
    "    return eval_performance_raw(predictions, targets)\n",
    "\n",
    "def export_predictions(predictions: np.array, filename: str):\n",
    "    \"\"\"\n",
    "    Exporte les prédictions dans un fichier NPZ.\n",
    "    :param predictions: np.array de shape (349, 1905) et de dtype uint8 contenant les prédictions\n",
    "    :param filename: nom du fichier de sortie\n",
    "    \"\"\"\n",
    "    # Check we have the right shape and dtype\n",
    "    if predictions.shape != (349, 1905):\n",
    "        raise ValueError(\"Les prédictions doivent être de shape (349, 1905)\")\n",
    "    if predictions.dtype != np.uint8:\n",
    "        raise ValueError(\"Les prédictions doivent être de dtype uint8\")\n",
    "    # Check predictions are in the correct domain\n",
    "    if np.any(predictions > 15):\n",
    "        raise ValueError(\"Les prédictions doivent être dans l'intervalle [0, 15]\")\n",
    "    # Ensure the output file has the right extension\n",
    "    if not filename.endswith('.npz'):\n",
    "        filename += '.npz'\n",
    "    # Save the predictions\n",
    "    np.savez_compressed(filename, predictions=predictions)\n",
    "    # Remind students to submit the file\n",
    "    print(f\"Prédictions exportées dans {filename}, n'oubliez pas d'envoyer votre fichier !\")   "
   ]
  },
  {
   "cell_type": "markdown",
   "metadata": {},
   "source": [
    "_______\n",
    "_______\n",
    "\n",
    "## 1 - Création d’une réponse type (Bon format)\n",
    "\n",
    "Ici, on crée une réponse type qui doit répondre à ces caractéristiques :\n",
    "\n",
    "* <u>Matrice 349x1905 :</u> Dimensions de l’image\n",
    "* <u>Valeurs [0, 15] :</u> Chaque valeur est associée à une classe\n",
    "\n",
    "Le but est juste de vérifier qu’on peut tester notre réponse avec le vérificateur donné."
   ]
  },
  {
   "cell_type": "markdown",
   "metadata": {},
   "source": [
    "_______\n",
    "\n",
    "_➜ On cree une \"prediction\" avec des valeurs completement aleatoires_"
   ]
  },
  {
   "cell_type": "code",
   "execution_count": 26,
   "metadata": {},
   "outputs": [],
   "source": [
    "random_prediction = np.zeros((349, 1905))\n",
    "for i in range(len(random_prediction)):\n",
    "    for j in range(len(random_prediction[i])):\n",
    "        random_prediction[i][j] = i % 15\n",
    "random_prediction = random_prediction.astype(np.uint8)"
   ]
  },
  {
   "cell_type": "markdown",
   "metadata": {},
   "source": [
    "_➜ On teste notre \"prediction\" aleatoire_"
   ]
  },
  {
   "cell_type": "code",
   "execution_count": 30,
   "metadata": {},
   "outputs": [
    {
     "name": "stdout",
     "output_type": "stream",
     "text": [
      "Prédictions exportées dans prediction.npz, n'oubliez pas d'envoyer votre fichier !\n",
      "Function: \tMean accuracy (micro, no background): 0.07\n",
      "Class: \t\tMean accuracy (macro, no background): nan\n"
     ]
    },
    {
     "name": "stderr",
     "output_type": "stream",
     "text": [
      "/tmp/ipykernel_5876/2048852247.py:30: RuntimeWarning: invalid value encountered in divide\n",
      "  class_accuracy = np.diag(confusion_matrix) / np.sum(confusion_matrix, axis=1)\n"
     ]
    },
    {
     "data": {
      "image/png": "[encoded data removed]",
      "text/plain": [
       "<Figure size 1500x500 with 2 Axes>"
      ]
     },
     "metadata": {},
     "output_type": "display_data"
    }
   ],
   "source": [
    "prediction_files = export_predictions(random_prediction, \"prediction\")\n",
    "groundtruth = np.load('groundtruth/groundtruth.npy')\n",
    "\n",
    "accuracy, class_accuracy, accuracy_no_unclassified_micro, confusion_matrix = load_eval_perf(\"prediction.npz\", groundtruth)\n",
    "print(f\"Function: \\tMean accuracy (micro, no background): {accuracy_no_unclassified_micro:.2f}\")\n",
    "accuracy_no_unclassified_macro = np.mean(class_accuracy[1:])\n",
    "print(f\"Class: \\t\\tMean accuracy (macro, no background): {accuracy_no_unclassified_macro:.2f}\")\n",
    "\n",
    "# Affichage de la figure\n",
    "plt.figure(figsize=(15,5))\n",
    "plt.subplot(121)\n",
    "plt.title('Accuracy (shifted, without background)')\n",
    "plt.bar(range(15), class_accuracy[1:])\n",
    "plt.xlim(-1, 15)\n",
    "plt.subplot(122)\n",
    "plt.title('Confusion matrix (shifted, without background)')\n",
    "plt.imshow(confusion_matrix[1:,1:], cmap='Blues')\n",
    "plt.show()"
   ]
  },
  {
   "cell_type": "markdown",
   "metadata": {},
   "source": [
    "Afin de simplifier le test de notre prediction, on cree une <u>fonction pour tester rapidement</u>"
   ]
  },
  {
   "cell_type": "code",
   "execution_count": 32,
   "metadata": {},
   "outputs": [],
   "source": [
    "def fast_prediction (prediction):\n",
    "    prediction_files = export_predictions(prediction, \"prediction\")\n",
    "    groundtruth = np.load('groundtruth/groundtruth.npy')\n",
    "\n",
    "    accuracy, class_accuracy, accuracy_no_unclassified_micro, confusion_matrix = load_eval_perf(\"prediction.npz\", groundtruth)\n",
    "    print(f\"Function: \\tMean accuracy (micro, no background): {accuracy_no_unclassified_micro:.2f}\")\n",
    "    accuracy_no_unclassified_macro = np.mean(class_accuracy[1:])\n",
    "    print(f\"Class: \\t\\tMean accuracy (macro, no background): {accuracy_no_unclassified_macro:.2f}\")\n",
    "\n",
    "    # Affichage de la figure\n",
    "    plt.figure(figsize=(15,5))\n",
    "    plt.subplot(121)\n",
    "    plt.title('Accuracy (shifted, without background)')\n",
    "    plt.bar(range(15), class_accuracy[1:])\n",
    "    plt.xlim(-1, 15)\n",
    "    plt.subplot(122)\n",
    "    plt.title('Confusion matrix (shifted, without background)')\n",
    "    plt.imshow(confusion_matrix[1:,1:], cmap='Blues')\n",
    "    plt.show()"
   ]
  },
  {
   "cell_type": "markdown",
   "metadata": {},
   "source": [
    "________\n",
    "________\n",
    "\n",
    "## 2 - Création d'un premier classifier"
   ]
  },
  {
   "cell_type": "markdown",
   "metadata": {},
   "source": [
    "On cree un premier classifier\n",
    "\n",
    "_____"
   ]
  },
  {
   "cell_type": "markdown",
   "metadata": {},
   "source": []
  }
 ],
 "metadata": {
  "kernelspec": {
   "display_name": "Python 3",
   "language": "python",
   "name": "python3"
  },
  "language_info": {
   "codemirror_mode": {
    "name": "ipython",
    "version": 3
   },
   "file_extension": ".py",
   "mimetype": "text/x-python",
   "name": "python",
   "nbconvert_exporter": "python",
   "pygments_lexer": "ipython3",
   "version": "3.11.6"
  }
 },
 "nbformat": 4,
 "nbformat_minor": 2
}
